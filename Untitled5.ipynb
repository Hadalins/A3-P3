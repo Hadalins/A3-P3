{
  "nbformat": 4,
  "nbformat_minor": 0,
  "metadata": {
    "colab": {
      "provenance": [],
      "authorship_tag": "ABX9TyN8kfCLW+ntWh2PQaSSGBfb",
      "include_colab_link": true
    },
    "kernelspec": {
      "name": "python3",
      "display_name": "Python 3"
    },
    "language_info": {
      "name": "python"
    }
  },
  "cells": [
    {
      "cell_type": "markdown",
      "metadata": {
        "id": "view-in-github",
        "colab_type": "text"
      },
      "source": [
        "<a href=\"https://colab.research.google.com/github/Hadalins/A3-P3/blob/main/Untitled5.ipynb\" target=\"_parent\"><img src=\"https://colab.research.google.com/assets/colab-badge.svg\" alt=\"Open In Colab\"/></a>"
      ]
    },
    {
      "cell_type": "code",
      "execution_count": 9,
      "metadata": {
        "colab": {
          "base_uri": "https://localhost:8080/"
        },
        "id": "lHO14qELF5tc",
        "outputId": "84710af0-7917-4163-d628-931e63a7fb1c"
      },
      "outputs": [
        {
          "output_type": "stream",
          "name": "stdout",
          "text": [
            "Digite sua temperatura: 40\n",
            "Você está com dores musculares intensas? (S/N): S\n",
            "Quadro de dengue, com 80% de chance.\n"
          ]
        }
      ],
      "source": [
        "temperatura = float(input(\"Digite sua temperatura: \"))\n",
        "\n",
        "# Solicita se há dores musculares intensas ao usuário\n",
        "dores_musculares = input(\"Você está com dores musculares intensas? (S/N): \")\n",
        "\n",
        "# Converte a resposta para maiúsculas para facilitar a comparação\n",
        "dores_musculares = dores_musculares.upper()\n",
        "\n",
        "# Verifica as condições usando if-else\n",
        "if temperatura >= 38 and dores_musculares == 'S':\n",
        "    print(\"Quadro de dengue, com 80% de chance.\")\n",
        "else:\n",
        "    print(\"Quadro de resfriado comum com 20% de chance.\")"
      ]
    }
  ]
}